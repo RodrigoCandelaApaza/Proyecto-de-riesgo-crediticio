{
 "cells": [
  {
   "cell_type": "code",
   "execution_count": 1,
   "id": "481994c9",
   "metadata": {
    "_cell_guid": "b1076dfc-b9ad-4769-8c92-a6c4dae69d19",
    "_uuid": "8f2839f25d086af736a60e9eeb907d3b93b6e0e5",
    "execution": {
     "iopub.execute_input": "2024-03-30T04:37:54.021768Z",
     "iopub.status.busy": "2024-03-30T04:37:54.021303Z",
     "iopub.status.idle": "2024-03-30T04:37:54.046253Z",
     "shell.execute_reply": "2024-03-30T04:37:54.044944Z"
    },
    "papermill": {
     "duration": 0.045018,
     "end_time": "2024-03-30T04:37:54.048965",
     "exception": false,
     "start_time": "2024-03-30T04:37:54.003947",
     "status": "completed"
    },
    "tags": []
   },
   "outputs": [
    {
     "name": "stdout",
     "output_type": "stream",
     "text": [
      "/kaggle/input/loan-default-dataset/Loan_Default.csv\n"
     ]
    }
   ],
   "source": [
    "# Set directory\n",
    "import os\n",
    "for dirname, _, filenames in os.walk('/kaggle/input'):\n",
    "    for filename in filenames:\n",
    "        print(os.path.join(dirname, filename))"
   ]
  },
  {
   "cell_type": "code",
   "execution_count": 2,
   "id": "a029a0c4",
   "metadata": {
    "execution": {
     "iopub.execute_input": "2024-03-30T04:37:54.080533Z",
     "iopub.status.busy": "2024-03-30T04:37:54.080104Z",
     "iopub.status.idle": "2024-03-30T04:37:56.548808Z",
     "shell.execute_reply": "2024-03-30T04:37:56.547685Z"
    },
    "papermill": {
     "duration": 2.487648,
     "end_time": "2024-03-30T04:37:56.551561",
     "exception": false,
     "start_time": "2024-03-30T04:37:54.063913",
     "status": "completed"
    },
    "tags": []
   },
   "outputs": [],
   "source": [
    "# Importing modules\n",
    "import numpy as np\n",
    "import pandas as pd\n",
    "import seaborn as sns\n",
    "import matplotlib.pyplot as plt"
   ]
  },
  {
   "cell_type": "markdown",
   "id": "bf1fe4d6",
   "metadata": {
    "papermill": {
     "duration": 0.014309,
     "end_time": "2024-03-30T04:37:56.581039",
     "exception": false,
     "start_time": "2024-03-30T04:37:56.566730",
     "status": "completed"
    },
    "tags": []
   },
   "source": [
    "# 1. Importing and visualizing the data"
   ]
  },
  {
   "cell_type": "code",
   "execution_count": 3,
   "id": "d04c6e16",
   "metadata": {
    "execution": {
     "iopub.execute_input": "2024-03-30T04:37:56.613651Z",
     "iopub.status.busy": "2024-03-30T04:37:56.613066Z",
     "iopub.status.idle": "2024-03-30T04:37:58.056967Z",
     "shell.execute_reply": "2024-03-30T04:37:58.055727Z"
    },
    "papermill": {
     "duration": 1.463944,
     "end_time": "2024-03-30T04:37:58.059740",
     "exception": false,
     "start_time": "2024-03-30T04:37:56.595796",
     "status": "completed"
    },
    "tags": []
   },
   "outputs": [
    {
     "data": {
      "text/html": [
       "<div>\n",
       "<style scoped>\n",
       "    .dataframe tbody tr th:only-of-type {\n",
       "        vertical-align: middle;\n",
       "    }\n",
       "\n",
       "    .dataframe tbody tr th {\n",
       "        vertical-align: top;\n",
       "    }\n",
       "\n",
       "    .dataframe thead th {\n",
       "        text-align: right;\n",
       "    }\n",
       "</style>\n",
       "<table border=\"1\" class=\"dataframe\">\n",
       "  <thead>\n",
       "    <tr style=\"text-align: right;\">\n",
       "      <th></th>\n",
       "      <th>ID</th>\n",
       "      <th>year</th>\n",
       "      <th>loan_limit</th>\n",
       "      <th>Gender</th>\n",
       "      <th>approv_in_adv</th>\n",
       "      <th>loan_type</th>\n",
       "      <th>loan_purpose</th>\n",
       "      <th>Credit_Worthiness</th>\n",
       "      <th>open_credit</th>\n",
       "      <th>business_or_commercial</th>\n",
       "      <th>...</th>\n",
       "      <th>credit_type</th>\n",
       "      <th>Credit_Score</th>\n",
       "      <th>co-applicant_credit_type</th>\n",
       "      <th>age</th>\n",
       "      <th>submission_of_application</th>\n",
       "      <th>LTV</th>\n",
       "      <th>Region</th>\n",
       "      <th>Security_Type</th>\n",
       "      <th>Status</th>\n",
       "      <th>dtir1</th>\n",
       "    </tr>\n",
       "  </thead>\n",
       "  <tbody>\n",
       "    <tr>\n",
       "      <th>0</th>\n",
       "      <td>24890</td>\n",
       "      <td>2019</td>\n",
       "      <td>cf</td>\n",
       "      <td>Sex Not Available</td>\n",
       "      <td>nopre</td>\n",
       "      <td>type1</td>\n",
       "      <td>p1</td>\n",
       "      <td>l1</td>\n",
       "      <td>nopc</td>\n",
       "      <td>nob/c</td>\n",
       "      <td>...</td>\n",
       "      <td>EXP</td>\n",
       "      <td>758</td>\n",
       "      <td>CIB</td>\n",
       "      <td>25-34</td>\n",
       "      <td>to_inst</td>\n",
       "      <td>98.728814</td>\n",
       "      <td>south</td>\n",
       "      <td>direct</td>\n",
       "      <td>1</td>\n",
       "      <td>45.0</td>\n",
       "    </tr>\n",
       "    <tr>\n",
       "      <th>1</th>\n",
       "      <td>24891</td>\n",
       "      <td>2019</td>\n",
       "      <td>cf</td>\n",
       "      <td>Male</td>\n",
       "      <td>nopre</td>\n",
       "      <td>type2</td>\n",
       "      <td>p1</td>\n",
       "      <td>l1</td>\n",
       "      <td>nopc</td>\n",
       "      <td>b/c</td>\n",
       "      <td>...</td>\n",
       "      <td>EQUI</td>\n",
       "      <td>552</td>\n",
       "      <td>EXP</td>\n",
       "      <td>55-64</td>\n",
       "      <td>to_inst</td>\n",
       "      <td>NaN</td>\n",
       "      <td>North</td>\n",
       "      <td>direct</td>\n",
       "      <td>1</td>\n",
       "      <td>NaN</td>\n",
       "    </tr>\n",
       "    <tr>\n",
       "      <th>2</th>\n",
       "      <td>24892</td>\n",
       "      <td>2019</td>\n",
       "      <td>cf</td>\n",
       "      <td>Male</td>\n",
       "      <td>pre</td>\n",
       "      <td>type1</td>\n",
       "      <td>p1</td>\n",
       "      <td>l1</td>\n",
       "      <td>nopc</td>\n",
       "      <td>nob/c</td>\n",
       "      <td>...</td>\n",
       "      <td>EXP</td>\n",
       "      <td>834</td>\n",
       "      <td>CIB</td>\n",
       "      <td>35-44</td>\n",
       "      <td>to_inst</td>\n",
       "      <td>80.019685</td>\n",
       "      <td>south</td>\n",
       "      <td>direct</td>\n",
       "      <td>0</td>\n",
       "      <td>46.0</td>\n",
       "    </tr>\n",
       "    <tr>\n",
       "      <th>3</th>\n",
       "      <td>24893</td>\n",
       "      <td>2019</td>\n",
       "      <td>cf</td>\n",
       "      <td>Male</td>\n",
       "      <td>nopre</td>\n",
       "      <td>type1</td>\n",
       "      <td>p4</td>\n",
       "      <td>l1</td>\n",
       "      <td>nopc</td>\n",
       "      <td>nob/c</td>\n",
       "      <td>...</td>\n",
       "      <td>EXP</td>\n",
       "      <td>587</td>\n",
       "      <td>CIB</td>\n",
       "      <td>45-54</td>\n",
       "      <td>not_inst</td>\n",
       "      <td>69.376900</td>\n",
       "      <td>North</td>\n",
       "      <td>direct</td>\n",
       "      <td>0</td>\n",
       "      <td>42.0</td>\n",
       "    </tr>\n",
       "    <tr>\n",
       "      <th>4</th>\n",
       "      <td>24894</td>\n",
       "      <td>2019</td>\n",
       "      <td>cf</td>\n",
       "      <td>Joint</td>\n",
       "      <td>pre</td>\n",
       "      <td>type1</td>\n",
       "      <td>p1</td>\n",
       "      <td>l1</td>\n",
       "      <td>nopc</td>\n",
       "      <td>nob/c</td>\n",
       "      <td>...</td>\n",
       "      <td>CRIF</td>\n",
       "      <td>602</td>\n",
       "      <td>EXP</td>\n",
       "      <td>25-34</td>\n",
       "      <td>not_inst</td>\n",
       "      <td>91.886544</td>\n",
       "      <td>North</td>\n",
       "      <td>direct</td>\n",
       "      <td>0</td>\n",
       "      <td>39.0</td>\n",
       "    </tr>\n",
       "  </tbody>\n",
       "</table>\n",
       "<p>5 rows × 34 columns</p>\n",
       "</div>"
      ],
      "text/plain": [
       "      ID  year loan_limit             Gender approv_in_adv loan_type  \\\n",
       "0  24890  2019         cf  Sex Not Available         nopre     type1   \n",
       "1  24891  2019         cf               Male         nopre     type2   \n",
       "2  24892  2019         cf               Male           pre     type1   \n",
       "3  24893  2019         cf               Male         nopre     type1   \n",
       "4  24894  2019         cf              Joint           pre     type1   \n",
       "\n",
       "  loan_purpose Credit_Worthiness open_credit business_or_commercial  ...  \\\n",
       "0           p1                l1        nopc                  nob/c  ...   \n",
       "1           p1                l1        nopc                    b/c  ...   \n",
       "2           p1                l1        nopc                  nob/c  ...   \n",
       "3           p4                l1        nopc                  nob/c  ...   \n",
       "4           p1                l1        nopc                  nob/c  ...   \n",
       "\n",
       "   credit_type  Credit_Score  co-applicant_credit_type    age  \\\n",
       "0          EXP           758                       CIB  25-34   \n",
       "1         EQUI           552                       EXP  55-64   \n",
       "2          EXP           834                       CIB  35-44   \n",
       "3          EXP           587                       CIB  45-54   \n",
       "4         CRIF           602                       EXP  25-34   \n",
       "\n",
       "   submission_of_application        LTV Region Security_Type  Status dtir1  \n",
       "0                    to_inst  98.728814  south        direct       1  45.0  \n",
       "1                    to_inst        NaN  North        direct       1   NaN  \n",
       "2                    to_inst  80.019685  south        direct       0  46.0  \n",
       "3                   not_inst  69.376900  North        direct       0  42.0  \n",
       "4                   not_inst  91.886544  North        direct       0  39.0  \n",
       "\n",
       "[5 rows x 34 columns]"
      ]
     },
     "execution_count": 3,
     "metadata": {},
     "output_type": "execute_result"
    }
   ],
   "source": [
    "df = pd.read_csv('/kaggle/input/loan-default-dataset/Loan_Default.csv')\n",
    "df.head()"
   ]
  },
  {
   "cell_type": "code",
   "execution_count": 4,
   "id": "5ec42a8c",
   "metadata": {
    "execution": {
     "iopub.execute_input": "2024-03-30T04:37:58.092127Z",
     "iopub.status.busy": "2024-03-30T04:37:58.091662Z",
     "iopub.status.idle": "2024-03-30T04:37:58.102866Z",
     "shell.execute_reply": "2024-03-30T04:37:58.101434Z"
    },
    "papermill": {
     "duration": 0.030143,
     "end_time": "2024-03-30T04:37:58.105243",
     "exception": false,
     "start_time": "2024-03-30T04:37:58.075100",
     "status": "completed"
    },
    "tags": []
   },
   "outputs": [
    {
     "data": {
      "text/plain": [
       "ID                             int64\n",
       "year                           int64\n",
       "loan_limit                    object\n",
       "Gender                        object\n",
       "approv_in_adv                 object\n",
       "loan_type                     object\n",
       "loan_purpose                  object\n",
       "Credit_Worthiness             object\n",
       "open_credit                   object\n",
       "business_or_commercial        object\n",
       "loan_amount                    int64\n",
       "rate_of_interest             float64\n",
       "Interest_rate_spread         float64\n",
       "Upfront_charges              float64\n",
       "term                         float64\n",
       "Neg_ammortization             object\n",
       "interest_only                 object\n",
       "lump_sum_payment              object\n",
       "property_value               float64\n",
       "construction_type             object\n",
       "occupancy_type                object\n",
       "Secured_by                    object\n",
       "total_units                   object\n",
       "income                       float64\n",
       "credit_type                   object\n",
       "Credit_Score                   int64\n",
       "co-applicant_credit_type      object\n",
       "age                           object\n",
       "submission_of_application     object\n",
       "LTV                          float64\n",
       "Region                        object\n",
       "Security_Type                 object\n",
       "Status                         int64\n",
       "dtir1                        float64\n",
       "dtype: object"
      ]
     },
     "execution_count": 4,
     "metadata": {},
     "output_type": "execute_result"
    }
   ],
   "source": [
    "# Verifying the types\n",
    "df.dtypes"
   ]
  },
  {
   "cell_type": "code",
   "execution_count": 5,
   "id": "d9bc250f",
   "metadata": {
    "execution": {
     "iopub.execute_input": "2024-03-30T04:37:58.138140Z",
     "iopub.status.busy": "2024-03-30T04:37:58.137449Z",
     "iopub.status.idle": "2024-03-30T04:37:58.179944Z",
     "shell.execute_reply": "2024-03-30T04:37:58.178718Z"
    },
    "papermill": {
     "duration": 0.061656,
     "end_time": "2024-03-30T04:37:58.182327",
     "exception": false,
     "start_time": "2024-03-30T04:37:58.120671",
     "status": "completed"
    },
    "tags": []
   },
   "outputs": [
    {
     "data": {
      "text/plain": [
       "Security_Type\n",
       "direct      148637\n",
       "Indriect        33\n",
       "Name: count, dtype: int64"
      ]
     },
     "execution_count": 5,
     "metadata": {},
     "output_type": "execute_result"
    }
   ],
   "source": [
    "df['Security_Type'].value_counts()"
   ]
  },
  {
   "cell_type": "markdown",
   "id": "b8166cc4",
   "metadata": {
    "papermill": {
     "duration": 0.0152,
     "end_time": "2024-03-30T04:37:58.213233",
     "exception": false,
     "start_time": "2024-03-30T04:37:58.198033",
     "status": "completed"
    },
    "tags": []
   },
   "source": [
    "To categorical:\n",
    "- loan_limit, Gender, loan_type, loan_purpose, Credit_Worthiness, open_credit, business_or_commercial, Neg_ammortization, interest_only, lump_sum_payment, construction_type, occupancy_type, Secured_by, total_units, credit_type, co-applicant_credit_type, age, submission_of_application, region, Security_Type\n",
    "\n",
    "Could be dummies:\n",
    "- Neg_ammortization, loan_limit, Credit_Worthiness, open_credit, business_or_commercial, interest_only, lump_sum_payment, submission_of_application, Security_Type"
   ]
  },
  {
   "cell_type": "code",
   "execution_count": 6,
   "id": "93783f91",
   "metadata": {
    "execution": {
     "iopub.execute_input": "2024-03-30T04:37:58.246361Z",
     "iopub.status.busy": "2024-03-30T04:37:58.245980Z",
     "iopub.status.idle": "2024-03-30T04:37:58.281697Z",
     "shell.execute_reply": "2024-03-30T04:37:58.280525Z"
    },
    "papermill": {
     "duration": 0.055446,
     "end_time": "2024-03-30T04:37:58.284395",
     "exception": false,
     "start_time": "2024-03-30T04:37:58.228949",
     "status": "completed"
    },
    "tags": []
   },
   "outputs": [
    {
     "data": {
      "text/plain": [
       "Credit_Worthiness\n",
       "l1    142344\n",
       "l2      6326\n",
       "Name: count, dtype: int64"
      ]
     },
     "execution_count": 6,
     "metadata": {},
     "output_type": "execute_result"
    }
   ],
   "source": [
    "# Credit worthiness could be an objective variable\n",
    "df['Credit_Worthiness'].value_counts()"
   ]
  },
  {
   "cell_type": "code",
   "execution_count": 7,
   "id": "319877aa",
   "metadata": {
    "execution": {
     "iopub.execute_input": "2024-03-30T04:37:58.318583Z",
     "iopub.status.busy": "2024-03-30T04:37:58.318182Z",
     "iopub.status.idle": "2024-03-30T04:37:58.922926Z",
     "shell.execute_reply": "2024-03-30T04:37:58.921409Z"
    },
    "papermill": {
     "duration": 0.624379,
     "end_time": "2024-03-30T04:37:58.925370",
     "exception": false,
     "start_time": "2024-03-30T04:37:58.300991",
     "status": "completed"
    },
    "tags": []
   },
   "outputs": [
    {
     "name": "stderr",
     "output_type": "stream",
     "text": [
      "/opt/conda/lib/python3.10/site-packages/seaborn/_oldcore.py:1119: FutureWarning: use_inf_as_na option is deprecated and will be removed in a future version. Convert inf values to NaN before operating instead.\n",
      "  with pd.option_context('mode.use_inf_as_na', True):\n"
     ]
    },
    {
     "data": {
      "image/png": "[encoded data removed]",
      "text/plain": [
       "<Figure size 640x480 with 1 Axes>"
      ]
     },
     "metadata": {},
     "output_type": "display_data"
    }
   ],
   "source": [
    "sns.histplot(df, x='Credit_Score')\n",
    "plt.title('Credit score distribution')\n",
    "plt.show()"
   ]
  },
  {
   "cell_type": "code",
   "execution_count": 8,
   "id": "ce434cb3",
   "metadata": {
    "execution": {
     "iopub.execute_input": "2024-03-30T04:37:58.961847Z",
     "iopub.status.busy": "2024-03-30T04:37:58.961093Z",
     "iopub.status.idle": "2024-03-30T04:37:59.422798Z",
     "shell.execute_reply": "2024-03-30T04:37:59.421653Z"
    },
    "papermill": {
     "duration": 0.482965,
     "end_time": "2024-03-30T04:37:59.425558",
     "exception": false,
     "start_time": "2024-03-30T04:37:58.942593",
     "status": "completed"
    },
    "tags": []
   },
   "outputs": [
    {
     "name": "stderr",
     "output_type": "stream",
     "text": [
      "/opt/conda/lib/python3.10/site-packages/seaborn/_oldcore.py:1119: FutureWarning: use_inf_as_na option is deprecated and will be removed in a future version. Convert inf values to NaN before operating instead.\n",
      "  with pd.option_context('mode.use_inf_as_na', True):\n"
     ]
    },
    {
     "data": {
      "image/png": "[encoded data removed]",
      "text/plain": [
       "<Figure size 640x480 with 1 Axes>"
      ]
     },
     "metadata": {},
     "output_type": "display_data"
    }
   ],
   "source": [
    "sns.histplot(df, x='loan_amount', bins=30)\n",
    "plt.title('Loan amount distribution')\n",
    "plt.show()"
   ]
  },
  {
   "cell_type": "code",
   "execution_count": 9,
   "id": "c1f3f512",
   "metadata": {
    "execution": {
     "iopub.execute_input": "2024-03-30T04:37:59.471362Z",
     "iopub.status.busy": "2024-03-30T04:37:59.469810Z",
     "iopub.status.idle": "2024-03-30T04:38:01.117342Z",
     "shell.execute_reply": "2024-03-30T04:38:01.115948Z"
    },
    "papermill": {
     "duration": 1.675008,
     "end_time": "2024-03-30T04:38:01.120883",
     "exception": false,
     "start_time": "2024-03-30T04:37:59.445875",
     "status": "completed"
    },
    "tags": []
   },
   "outputs": [
    {
     "data": {
      "image/png": "[encoded data removed]",
      "text/plain": [
       "<Figure size 640x480 with 1 Axes>"
      ]
     },
     "metadata": {},
     "output_type": "display_data"
    }
   ],
   "source": [
    "# Visualizing relations between this and other variables\n",
    "sns.barplot(data=df, y='loan_amount', x='Credit_Worthiness')\n",
    "plt.title('Loan amount by credit worthiness')\n",
    "plt.show()"
   ]
  },
  {
   "cell_type": "code",
   "execution_count": 10,
   "id": "8fbaa708",
   "metadata": {
    "execution": {
     "iopub.execute_input": "2024-03-30T04:38:01.161978Z",
     "iopub.status.busy": "2024-03-30T04:38:01.160801Z",
     "iopub.status.idle": "2024-03-30T04:38:02.732185Z",
     "shell.execute_reply": "2024-03-30T04:38:02.731286Z"
    },
    "papermill": {
     "duration": 1.592646,
     "end_time": "2024-03-30T04:38:02.734438",
     "exception": false,
     "start_time": "2024-03-30T04:38:01.141792",
     "status": "completed"
    },
    "tags": []
   },
   "outputs": [
    {
     "data": {
      "image/png": "[encoded data removed]",
      "text/plain": [
       "<Figure size 640x480 with 1 Axes>"
      ]
     },
     "metadata": {},
     "output_type": "display_data"
    }
   ],
   "source": [
    "sns.barplot(data=df, y='Credit_Score', x='Credit_Worthiness')\n",
    "plt.title('Credit score by credit worthiness')\n",
    "plt.show()"
   ]
  },
  {
   "cell_type": "code",
   "execution_count": 11,
   "id": "cee11917",
   "metadata": {
    "execution": {
     "iopub.execute_input": "2024-03-30T04:38:02.772962Z",
     "iopub.status.busy": "2024-03-30T04:38:02.772273Z",
     "iopub.status.idle": "2024-03-30T04:38:05.123382Z",
     "shell.execute_reply": "2024-03-30T04:38:05.122139Z"
    },
    "papermill": {
     "duration": 2.373875,
     "end_time": "2024-03-30T04:38:05.126305",
     "exception": false,
     "start_time": "2024-03-30T04:38:02.752430",
     "status": "completed"
    },
    "tags": []
   },
   "outputs": [
    {
     "data": {
      "image/png": "[encoded data removed]",
      "text/plain": [
       "<Figure size 640x480 with 1 Axes>"
      ]
     },
     "metadata": {},
     "output_type": "display_data"
    }
   ],
   "source": [
    "sns.barplot(data=df, x='Credit_Worthiness', y='property_value')\n",
    "plt.title('Property value by credit worthiness')\n",
    "plt.show()"
   ]
  },
  {
   "cell_type": "code",
   "execution_count": 12,
   "id": "d7d9858f",
   "metadata": {
    "execution": {
     "iopub.execute_input": "2024-03-30T04:38:05.166469Z",
     "iopub.status.busy": "2024-03-30T04:38:05.166031Z",
     "iopub.status.idle": "2024-03-30T04:38:07.364237Z",
     "shell.execute_reply": "2024-03-30T04:38:07.362981Z"
    },
    "papermill": {
     "duration": 2.220702,
     "end_time": "2024-03-30T04:38:07.366931",
     "exception": false,
     "start_time": "2024-03-30T04:38:05.146229",
     "status": "completed"
    },
    "tags": []
   },
   "outputs": [
    {
     "data": {
      "image/png": "[encoded data removed]",
      "text/plain": [
       "<Figure size 640x480 with 1 Axes>"
      ]
     },
     "metadata": {},
     "output_type": "display_data"
    }
   ],
   "source": [
    "sns.barplot(data=df, x='Credit_Worthiness', y='income')\n",
    "plt.title('Income by credit worthiness')\n",
    "plt.show()"
   ]
  },
  {
   "cell_type": "code",
   "execution_count": 13,
   "id": "10d2b060",
   "metadata": {
    "execution": {
     "iopub.execute_input": "2024-03-30T04:38:07.408444Z",
     "iopub.status.busy": "2024-03-30T04:38:07.407702Z",
     "iopub.status.idle": "2024-03-30T04:38:07.871105Z",
     "shell.execute_reply": "2024-03-30T04:38:07.869846Z"
    },
    "papermill": {
     "duration": 0.487302,
     "end_time": "2024-03-30T04:38:07.873660",
     "exception": false,
     "start_time": "2024-03-30T04:38:07.386358",
     "status": "completed"
    },
    "tags": []
   },
   "outputs": [
    {
     "data": {
      "image/png": "[encoded data removed]",
      "text/plain": [
       "<Figure size 640x480 with 1 Axes>"
      ]
     },
     "metadata": {},
     "output_type": "display_data"
    }
   ],
   "source": [
    "sns.countplot(data=df, x='Credit_Worthiness', hue='Status')\n",
    "plt.title('Credit worthiness by status (current loan?)')\n",
    "plt.show()"
   ]
  },
  {
   "cell_type": "code",
   "execution_count": 14,
   "id": "733b5280",
   "metadata": {
    "execution": {
     "iopub.execute_input": "2024-03-30T04:38:07.914754Z",
     "iopub.status.busy": "2024-03-30T04:38:07.914063Z",
     "iopub.status.idle": "2024-03-30T04:38:10.771066Z",
     "shell.execute_reply": "2024-03-30T04:38:10.770013Z"
    },
    "papermill": {
     "duration": 2.880689,
     "end_time": "2024-03-30T04:38:10.773549",
     "exception": false,
     "start_time": "2024-03-30T04:38:07.892860",
     "status": "completed"
    },
    "tags": []
   },
   "outputs": [
    {
     "data": {
      "image/png": "[encoded data removed]",
      "text/plain": [
       "<Figure size 640x480 with 1 Axes>"
      ]
     },
     "metadata": {},
     "output_type": "display_data"
    }
   ],
   "source": [
    "sns.barplot(df, y='Credit_Worthiness', x='rate_of_interest')\n",
    "plt.title('Rate of interest by credit worthiness')\n",
    "plt.show()"
   ]
  },
  {
   "cell_type": "markdown",
   "id": "a66c982f",
   "metadata": {
    "papermill": {
     "duration": 0.019629,
     "end_time": "2024-03-30T04:38:10.813801",
     "exception": false,
     "start_time": "2024-03-30T04:38:10.794172",
     "status": "completed"
    },
    "tags": []
   },
   "source": [
    "Credit_Worthiness = l1 groups people with more credit worthiness than l2."
   ]
  },
  {
   "cell_type": "markdown",
   "id": "4146cbcd",
   "metadata": {
    "papermill": {
     "duration": 0.019637,
     "end_time": "2024-03-30T04:38:10.853831",
     "exception": false,
     "start_time": "2024-03-30T04:38:10.834194",
     "status": "completed"
    },
    "tags": []
   },
   "source": [
    "# 2. Data cleaning"
   ]
  },
  {
   "cell_type": "code",
   "execution_count": 15,
   "id": "3b62f055",
   "metadata": {
    "execution": {
     "iopub.execute_input": "2024-03-30T04:38:10.896284Z",
     "iopub.status.busy": "2024-03-30T04:38:10.895505Z",
     "iopub.status.idle": "2024-03-30T04:38:10.920646Z",
     "shell.execute_reply": "2024-03-30T04:38:10.919433Z"
    },
    "papermill": {
     "duration": 0.049479,
     "end_time": "2024-03-30T04:38:10.923209",
     "exception": false,
     "start_time": "2024-03-30T04:38:10.873730",
     "status": "completed"
    },
    "tags": []
   },
   "outputs": [
    {
     "data": {
      "text/html": [
       "<div>\n",
       "<style scoped>\n",
       "    .dataframe tbody tr th:only-of-type {\n",
       "        vertical-align: middle;\n",
       "    }\n",
       "\n",
       "    .dataframe tbody tr th {\n",
       "        vertical-align: top;\n",
       "    }\n",
       "\n",
       "    .dataframe thead th {\n",
       "        text-align: right;\n",
       "    }\n",
       "</style>\n",
       "<table border=\"1\" class=\"dataframe\">\n",
       "  <thead>\n",
       "    <tr style=\"text-align: right;\">\n",
       "      <th></th>\n",
       "      <th>ID</th>\n",
       "      <th>year</th>\n",
       "      <th>loan_limit</th>\n",
       "      <th>Gender</th>\n",
       "      <th>approv_in_adv</th>\n",
       "      <th>loan_type</th>\n",
       "      <th>loan_purpose</th>\n",
       "      <th>Credit_Worthiness</th>\n",
       "      <th>open_credit</th>\n",
       "      <th>business_or_commercial</th>\n",
       "      <th>...</th>\n",
       "      <th>credit_type</th>\n",
       "      <th>Credit_Score</th>\n",
       "      <th>co-applicant_credit_type</th>\n",
       "      <th>age</th>\n",
       "      <th>submission_of_application</th>\n",
       "      <th>LTV</th>\n",
       "      <th>Region</th>\n",
       "      <th>Security_Type</th>\n",
       "      <th>Status</th>\n",
       "      <th>dtir1</th>\n",
       "    </tr>\n",
       "  </thead>\n",
       "  <tbody>\n",
       "    <tr>\n",
       "      <th>0</th>\n",
       "      <td>24890</td>\n",
       "      <td>2019</td>\n",
       "      <td>cf</td>\n",
       "      <td>Sex Not Available</td>\n",
       "      <td>nopre</td>\n",
       "      <td>type1</td>\n",
       "      <td>p1</td>\n",
       "      <td>l1</td>\n",
       "      <td>nopc</td>\n",
       "      <td>nob/c</td>\n",
       "      <td>...</td>\n",
       "      <td>EXP</td>\n",
       "      <td>758</td>\n",
       "      <td>CIB</td>\n",
       "      <td>25-34</td>\n",
       "      <td>to_inst</td>\n",
       "      <td>98.728814</td>\n",
       "      <td>south</td>\n",
       "      <td>direct</td>\n",
       "      <td>1</td>\n",
       "      <td>45.0</td>\n",
       "    </tr>\n",
       "    <tr>\n",
       "      <th>1</th>\n",
       "      <td>24891</td>\n",
       "      <td>2019</td>\n",
       "      <td>cf</td>\n",
       "      <td>Male</td>\n",
       "      <td>nopre</td>\n",
       "      <td>type2</td>\n",
       "      <td>p1</td>\n",
       "      <td>l1</td>\n",
       "      <td>nopc</td>\n",
       "      <td>b/c</td>\n",
       "      <td>...</td>\n",
       "      <td>EQUI</td>\n",
       "      <td>552</td>\n",
       "      <td>EXP</td>\n",
       "      <td>55-64</td>\n",
       "      <td>to_inst</td>\n",
       "      <td>NaN</td>\n",
       "      <td>North</td>\n",
       "      <td>direct</td>\n",
       "      <td>1</td>\n",
       "      <td>NaN</td>\n",
       "    </tr>\n",
       "    <tr>\n",
       "      <th>2</th>\n",
       "      <td>24892</td>\n",
       "      <td>2019</td>\n",
       "      <td>cf</td>\n",
       "      <td>Male</td>\n",
       "      <td>pre</td>\n",
       "      <td>type1</td>\n",
       "      <td>p1</td>\n",
       "      <td>l1</td>\n",
       "      <td>nopc</td>\n",
       "      <td>nob/c</td>\n",
       "      <td>...</td>\n",
       "      <td>EXP</td>\n",
       "      <td>834</td>\n",
       "      <td>CIB</td>\n",
       "      <td>35-44</td>\n",
       "      <td>to_inst</td>\n",
       "      <td>80.019685</td>\n",
       "      <td>south</td>\n",
       "      <td>direct</td>\n",
       "      <td>0</td>\n",
       "      <td>46.0</td>\n",
       "    </tr>\n",
       "    <tr>\n",
       "      <th>3</th>\n",
       "      <td>24893</td>\n",
       "      <td>2019</td>\n",
       "      <td>cf</td>\n",
       "      <td>Male</td>\n",
       "      <td>nopre</td>\n",
       "      <td>type1</td>\n",
       "      <td>p4</td>\n",
       "      <td>l1</td>\n",
       "      <td>nopc</td>\n",
       "      <td>nob/c</td>\n",
       "      <td>...</td>\n",
       "      <td>EXP</td>\n",
       "      <td>587</td>\n",
       "      <td>CIB</td>\n",
       "      <td>45-54</td>\n",
       "      <td>not_inst</td>\n",
       "      <td>69.376900</td>\n",
       "      <td>North</td>\n",
       "      <td>direct</td>\n",
       "      <td>0</td>\n",
       "      <td>42.0</td>\n",
       "    </tr>\n",
       "    <tr>\n",
       "      <th>4</th>\n",
       "      <td>24894</td>\n",
       "      <td>2019</td>\n",
       "      <td>cf</td>\n",
       "      <td>Joint</td>\n",
       "      <td>pre</td>\n",
       "      <td>type1</td>\n",
       "      <td>p1</td>\n",
       "      <td>l1</td>\n",
       "      <td>nopc</td>\n",
       "      <td>nob/c</td>\n",
       "      <td>...</td>\n",
       "      <td>CRIF</td>\n",
       "      <td>602</td>\n",
       "      <td>EXP</td>\n",
       "      <td>25-34</td>\n",
       "      <td>not_inst</td>\n",
       "      <td>91.886544</td>\n",
       "      <td>North</td>\n",
       "      <td>direct</td>\n",
       "      <td>0</td>\n",
       "      <td>39.0</td>\n",
       "    </tr>\n",
       "  </tbody>\n",
       "</table>\n",
       "<p>5 rows × 34 columns</p>\n",
       "</div>"
      ],
      "text/plain": [
       "      ID  year loan_limit             Gender approv_in_adv loan_type  \\\n",
       "0  24890  2019         cf  Sex Not Available         nopre     type1   \n",
       "1  24891  2019         cf               Male         nopre     type2   \n",
       "2  24892  2019         cf               Male           pre     type1   \n",
       "3  24893  2019         cf               Male         nopre     type1   \n",
       "4  24894  2019         cf              Joint           pre     type1   \n",
       "\n",
       "  loan_purpose Credit_Worthiness open_credit business_or_commercial  ...  \\\n",
       "0           p1                l1        nopc                  nob/c  ...   \n",
       "1           p1                l1        nopc                    b/c  ...   \n",
       "2           p1                l1        nopc                  nob/c  ...   \n",
       "3           p4                l1        nopc                  nob/c  ...   \n",
       "4           p1                l1        nopc                  nob/c  ...   \n",
       "\n",
       "   credit_type  Credit_Score  co-applicant_credit_type    age  \\\n",
       "0          EXP           758                       CIB  25-34   \n",
       "1         EQUI           552                       EXP  55-64   \n",
       "2          EXP           834                       CIB  35-44   \n",
       "3          EXP           587                       CIB  45-54   \n",
       "4         CRIF           602                       EXP  25-34   \n",
       "\n",
       "   submission_of_application        LTV Region Security_Type  Status dtir1  \n",
       "0                    to_inst  98.728814  south        direct       1  45.0  \n",
       "1                    to_inst        NaN  North        direct       1   NaN  \n",
       "2                    to_inst  80.019685  south        direct       0  46.0  \n",
       "3                   not_inst  69.376900  North        direct       0  42.0  \n",
       "4                   not_inst  91.886544  North        direct       0  39.0  \n",
       "\n",
       "[5 rows x 34 columns]"
      ]
     },
     "execution_count": 15,
     "metadata": {},
     "output_type": "execute_result"
    }
   ],
   "source": [
    "df.head()"
   ]
  },
  {
   "cell_type": "code",
   "execution_count": 16,
   "id": "cac5898a",
   "metadata": {
    "execution": {
     "iopub.execute_input": "2024-03-30T04:38:10.966257Z",
     "iopub.status.busy": "2024-03-30T04:38:10.965821Z",
     "iopub.status.idle": "2024-03-30T04:38:11.001408Z",
     "shell.execute_reply": "2024-03-30T04:38:11.000219Z"
    },
    "papermill": {
     "duration": 0.06018,
     "end_time": "2024-03-30T04:38:11.003703",
     "exception": false,
     "start_time": "2024-03-30T04:38:10.943523",
     "status": "completed"
    },
    "tags": []
   },
   "outputs": [
    {
     "data": {
      "text/plain": [
       "loan_limit\n",
       "cf     135348\n",
       "ncf      9978\n",
       "Name: count, dtype: int64"
      ]
     },
     "execution_count": 16,
     "metadata": {},
     "output_type": "execute_result"
    }
   ],
   "source": [
    "df['loan_limit'].value_counts()"
   ]
  },
  {
   "cell_type": "code",
   "execution_count": 17,
   "id": "97f034f6",
   "metadata": {
    "execution": {
     "iopub.execute_input": "2024-03-30T04:38:11.046110Z",
     "iopub.status.busy": "2024-03-30T04:38:11.045703Z",
     "iopub.status.idle": "2024-03-30T04:38:11.083358Z",
     "shell.execute_reply": "2024-03-30T04:38:11.082215Z"
    },
    "papermill": {
     "duration": 0.062293,
     "end_time": "2024-03-30T04:38:11.086275",
     "exception": false,
     "start_time": "2024-03-30T04:38:11.023982",
     "status": "completed"
    },
    "tags": []
   },
   "outputs": [],
   "source": [
    "# Keep only the necessary columns\n",
    "df = df.drop(['ID','year','co-applicant_credit_type'],axis=1)"
   ]
  },
  {
   "cell_type": "code",
   "execution_count": 18,
   "id": "dc56054a",
   "metadata": {
    "execution": {
     "iopub.execute_input": "2024-03-30T04:38:11.128777Z",
     "iopub.status.busy": "2024-03-30T04:38:11.128334Z",
     "iopub.status.idle": "2024-03-30T04:38:19.851961Z",
     "shell.execute_reply": "2024-03-30T04:38:19.850632Z"
    },
    "papermill": {
     "duration": 8.749253,
     "end_time": "2024-03-30T04:38:19.855787",
     "exception": false,
     "start_time": "2024-03-30T04:38:11.106534",
     "status": "completed"
    },
    "tags": []
   },
   "outputs": [
    {
     "name": "stderr",
     "output_type": "stream",
     "text": [
      "/opt/conda/lib/python3.10/site-packages/seaborn/_oldcore.py:1119: FutureWarning: use_inf_as_na option is deprecated and will be removed in a future version. Convert inf values to NaN before operating instead.\n",
      "  with pd.option_context('mode.use_inf_as_na', True):\n",
      "/opt/conda/lib/python3.10/site-packages/seaborn/_oldcore.py:1119: FutureWarning: use_inf_as_na option is deprecated and will be removed in a future version. Convert inf values to NaN before operating instead.\n",
      "  with pd.option_context('mode.use_inf_as_na', True):\n",
      "/opt/conda/lib/python3.10/site-packages/seaborn/_oldcore.py:1119: FutureWarning: use_inf_as_na option is deprecated and will be removed in a future version. Convert inf values to NaN before operating instead.\n",
      "  with pd.option_context('mode.use_inf_as_na', True):\n",
      "/opt/conda/lib/python3.10/site-packages/seaborn/_oldcore.py:1119: FutureWarning: use_inf_as_na option is deprecated and will be removed in a future version. Convert inf values to NaN before operating instead.\n",
      "  with pd.option_context('mode.use_inf_as_na', True):\n",
      "/opt/conda/lib/python3.10/site-packages/seaborn/_oldcore.py:1119: FutureWarning: use_inf_as_na option is deprecated and will be removed in a future version. Convert inf values to NaN before operating instead.\n",
      "  with pd.option_context('mode.use_inf_as_na', True):\n",
      "/opt/conda/lib/python3.10/site-packages/seaborn/_oldcore.py:1119: FutureWarning: use_inf_as_na option is deprecated and will be removed in a future version. Convert inf values to NaN before operating instead.\n",
      "  with pd.option_context('mode.use_inf_as_na', True):\n",
      "/opt/conda/lib/python3.10/site-packages/seaborn/_oldcore.py:1119: FutureWarning: use_inf_as_na option is deprecated and will be removed in a future version. Convert inf values to NaN before operating instead.\n",
      "  with pd.option_context('mode.use_inf_as_na', True):\n",
      "/opt/conda/lib/python3.10/site-packages/seaborn/_oldcore.py:1119: FutureWarning: use_inf_as_na option is deprecated and will be removed in a future version. Convert inf values to NaN before operating instead.\n",
      "  with pd.option_context('mode.use_inf_as_na', True):\n",
      "/opt/conda/lib/python3.10/site-packages/seaborn/_oldcore.py:1119: FutureWarning: use_inf_as_na option is deprecated and will be removed in a future version. Convert inf values to NaN before operating instead.\n",
      "  with pd.option_context('mode.use_inf_as_na', True):\n",
      "/opt/conda/lib/python3.10/site-packages/seaborn/_oldcore.py:1119: FutureWarning: use_inf_as_na option is deprecated and will be removed in a future version. Convert inf values to NaN before operating instead.\n",
      "  with pd.option_context('mode.use_inf_as_na', True):\n",
      "/opt/conda/lib/python3.10/site-packages/seaborn/_oldcore.py:1119: FutureWarning: use_inf_as_na option is deprecated and will be removed in a future version. Convert inf values to NaN before operating instead.\n",
      "  with pd.option_context('mode.use_inf_as_na', True):\n"
     ]
    },
    {
     "data": {
      "image/png": "[encoded data removed]",
      "text/plain": [
       "<Figure size 400x2200 with 11 Axes>"
      ]
     },
     "metadata": {},
     "output_type": "display_data"
    }
   ],
   "source": [
    "# finding outliers\n",
    "numeric_columns = df.select_dtypes(include=['int', 'float']).columns.tolist()\n",
    "fig, axes = plt.subplots(ncols=1,nrows=len(numeric_columns),figsize=(4,2*len(numeric_columns)))\n",
    "for i, var in enumerate(numeric_columns):\n",
    "    sns.kdeplot(data=df, x=var, ax=axes[i])\n",
    "    axes[i].set(ylabel=var)\n",
    "plt.tight_layout()\n",
    "plt.show()"
   ]
  },
  {
   "cell_type": "code",
   "execution_count": 19,
   "id": "833e7b24",
   "metadata": {
    "execution": {
     "iopub.execute_input": "2024-03-30T04:38:19.976002Z",
     "iopub.status.busy": "2024-03-30T04:38:19.974416Z",
     "iopub.status.idle": "2024-03-30T04:38:19.983317Z",
     "shell.execute_reply": "2024-03-30T04:38:19.982289Z"
    },
    "papermill": {
     "duration": 0.03709,
     "end_time": "2024-03-30T04:38:19.985733",
     "exception": false,
     "start_time": "2024-03-30T04:38:19.948643",
     "status": "completed"
    },
    "tags": []
   },
   "outputs": [],
   "source": [
    "def cut_outliers(df,cols,alpha):\n",
    "    \"\"\"Drops the observations above and below an alpha threshold (in percentage).\n",
    "        - cols (list): list of strings with the names of the columns with outliers.\n",
    "        - alpha (int): quantile threshold.\n",
    "    \"\"\"\n",
    "    df_len_start = len(df)\n",
    "    for col in cols:\n",
    "        upper_limit = df[col].quantile((100-alpha/2)/100)\n",
    "        lower_limit = df[col].quantile((alpha/2)/100)\n",
    "        df = df[(df[col]<upper_limit) & (df[col]>lower_limit)]\n",
    "    df_len_end = len(df)\n",
    "    print('Cutting finished. {} observations cutted. Now there are {} obs.'.format(df_len_start-df_len_end,df_len_end))\n",
    "    return df"
   ]
  },
  {
   "cell_type": "code",
   "execution_count": 20,
   "id": "8f4f87d5",
   "metadata": {
    "execution": {
     "iopub.execute_input": "2024-03-30T04:38:20.035842Z",
     "iopub.status.busy": "2024-03-30T04:38:20.035028Z",
     "iopub.status.idle": "2024-03-30T04:38:20.213361Z",
     "shell.execute_reply": "2024-03-30T04:38:20.212058Z"
    },
    "papermill": {
     "duration": 0.205981,
     "end_time": "2024-03-30T04:38:20.215881",
     "exception": false,
     "start_time": "2024-03-30T04:38:20.009900",
     "status": "completed"
    },
    "tags": []
   },
   "outputs": [
    {
     "name": "stdout",
     "output_type": "stream",
     "text": [
      "Cutting finished. 133468 observations cutted. Now there are 15202 obs.\n"
     ]
    }
   ],
   "source": [
    "df = cut_outliers(df,['loan_amount','Upfront_charges','term','property_value','income'],alpha=2)"
   ]
  },
  {
   "cell_type": "markdown",
   "id": "2b385dab",
   "metadata": {
    "papermill": {
     "duration": 0.023843,
     "end_time": "2024-03-30T04:38:20.264424",
     "exception": false,
     "start_time": "2024-03-30T04:38:20.240581",
     "status": "completed"
    },
    "tags": []
   },
   "source": [
    "# 3. Preprocessing"
   ]
  },
  {
   "cell_type": "code",
   "execution_count": 21,
   "id": "b191d7a7",
   "metadata": {
    "execution": {
     "iopub.execute_input": "2024-03-30T04:38:20.313295Z",
     "iopub.status.busy": "2024-03-30T04:38:20.312905Z",
     "iopub.status.idle": "2024-03-30T04:38:20.363366Z",
     "shell.execute_reply": "2024-03-30T04:38:20.361859Z"
    },
    "papermill": {
     "duration": 0.078153,
     "end_time": "2024-03-30T04:38:20.366127",
     "exception": false,
     "start_time": "2024-03-30T04:38:20.287974",
     "status": "completed"
    },
    "tags": []
   },
   "outputs": [
    {
     "name": "stdout",
     "output_type": "stream",
     "text": [
      "<class 'pandas.core.frame.DataFrame'>\n",
      "Index: 15202 entries, 20 to 148669\n",
      "Data columns (total 31 columns):\n",
      " #   Column                     Non-Null Count  Dtype  \n",
      "---  ------                     --------------  -----  \n",
      " 0   loan_limit                 14924 non-null  object \n",
      " 1   Gender                     15202 non-null  object \n",
      " 2   approv_in_adv              15103 non-null  object \n",
      " 3   loan_type                  15202 non-null  object \n",
      " 4   loan_purpose               15200 non-null  object \n",
      " 5   Credit_Worthiness          15202 non-null  object \n",
      " 6   open_credit                15202 non-null  object \n",
      " 7   business_or_commercial     15202 non-null  object \n",
      " 8   loan_amount                15202 non-null  int64  \n",
      " 9   rate_of_interest           15202 non-null  float64\n",
      " 10  Interest_rate_spread       15202 non-null  float64\n",
      " 11  Upfront_charges            15202 non-null  float64\n",
      " 12  term                       15202 non-null  float64\n",
      " 13  Neg_ammortization          15196 non-null  object \n",
      " 14  interest_only              15202 non-null  object \n",
      " 15  lump_sum_payment           15202 non-null  object \n",
      " 16  property_value             15202 non-null  float64\n",
      " 17  construction_type          15202 non-null  object \n",
      " 18  occupancy_type             15202 non-null  object \n",
      " 19  Secured_by                 15202 non-null  object \n",
      " 20  total_units                15202 non-null  object \n",
      " 21  income                     15202 non-null  float64\n",
      " 22  credit_type                15202 non-null  object \n",
      " 23  Credit_Score               15202 non-null  int64  \n",
      " 24  age                        15202 non-null  object \n",
      " 25  submission_of_application  15202 non-null  object \n",
      " 26  LTV                        15202 non-null  float64\n",
      " 27  Region                     15202 non-null  object \n",
      " 28  Security_Type              15202 non-null  object \n",
      " 29  Status                     15202 non-null  int64  \n",
      " 30  dtir1                      15202 non-null  float64\n",
      "dtypes: float64(8), int64(3), object(20)\n",
      "memory usage: 3.7+ MB\n"
     ]
    }
   ],
   "source": [
    "df.info()"
   ]
  },
  {
   "cell_type": "code",
   "execution_count": 22,
   "id": "7a98c651",
   "metadata": {
    "execution": {
     "iopub.execute_input": "2024-03-30T04:38:20.416628Z",
     "iopub.status.busy": "2024-03-30T04:38:20.415742Z",
     "iopub.status.idle": "2024-03-30T04:38:20.426324Z",
     "shell.execute_reply": "2024-03-30T04:38:20.425521Z"
    },
    "papermill": {
     "duration": 0.038022,
     "end_time": "2024-03-30T04:38:20.428435",
     "exception": false,
     "start_time": "2024-03-30T04:38:20.390413",
     "status": "completed"
    },
    "tags": []
   },
   "outputs": [
    {
     "data": {
      "text/plain": [
       "Security_Type\n",
       "direct    15202\n",
       "Name: count, dtype: int64"
      ]
     },
     "execution_count": 22,
     "metadata": {},
     "output_type": "execute_result"
    }
   ],
   "source": [
    "df['Security_Type'].value_counts()"
   ]
  },
  {
   "cell_type": "code",
   "execution_count": 23,
   "id": "8ffaf283",
   "metadata": {
    "execution": {
     "iopub.execute_input": "2024-03-30T04:38:20.478196Z",
     "iopub.status.busy": "2024-03-30T04:38:20.477499Z",
     "iopub.status.idle": "2024-03-30T04:38:20.508013Z",
     "shell.execute_reply": "2024-03-30T04:38:20.506528Z"
    },
    "papermill": {
     "duration": 0.058553,
     "end_time": "2024-03-30T04:38:20.510851",
     "exception": false,
     "start_time": "2024-03-30T04:38:20.452298",
     "status": "completed"
    },
    "tags": []
   },
   "outputs": [],
   "source": [
    "# Creating dummies\n",
    "df['Credit_Worthiness'] = np.where(df['Credit_Worthiness']=='l1',1,0)\n",
    "df['approv_in_adv'] = np.where(df['approv_in_adv']=='pre',1,0)\n",
    "df.drop(['open_credit','total_units','Security_Type','construction_type'], axis=1, inplace=True)\n",
    "df['Neg_ammortization'] = np.where(df['Neg_ammortization']=='neg_amm',1,0)\n",
    "df['interest_only'] = np.where(df['interest_only']=='int_only',1,0)\n",
    "df['lump_sum_payment'] = np.where(df['lump_sum_payment']=='lpsm',1,0)"
   ]
  },
  {
   "cell_type": "markdown",
   "id": "db33ea1c",
   "metadata": {
    "papermill": {
     "duration": 0.024271,
     "end_time": "2024-03-30T04:38:20.560083",
     "exception": false,
     "start_time": "2024-03-30T04:38:20.535812",
     "status": "completed"
    },
    "tags": []
   },
   "source": [
    "Categorícas: Gender, loan_limit,  loan_type, loan_purpose, business_or_commercial, construction_type, occupancy_type, credit_type, submission_of_application, Region, "
   ]
  },
  {
   "cell_type": "code",
   "execution_count": 24,
   "id": "2b7be459",
   "metadata": {
    "execution": {
     "iopub.execute_input": "2024-03-30T04:38:20.610753Z",
     "iopub.status.busy": "2024-03-30T04:38:20.610302Z",
     "iopub.status.idle": "2024-03-30T04:38:20.655944Z",
     "shell.execute_reply": "2024-03-30T04:38:20.654749Z"
    },
    "papermill": {
     "duration": 0.073842,
     "end_time": "2024-03-30T04:38:20.658666",
     "exception": false,
     "start_time": "2024-03-30T04:38:20.584824",
     "status": "completed"
    },
    "tags": []
   },
   "outputs": [],
   "source": [
    "df = pd.get_dummies(data=df, \n",
    "                    columns=['Gender','loan_limit','loan_type','loan_purpose',\n",
    "                             'business_or_commercial','occupancy_type',\n",
    "                             'credit_type','submission_of_application','Region',\n",
    "                             'Secured_by','age'],\n",
    "                    drop_first=True,\n",
    "                    dtype=int)"
   ]
  },
  {
   "cell_type": "code",
   "execution_count": 25,
   "id": "41130911",
   "metadata": {
    "execution": {
     "iopub.execute_input": "2024-03-30T04:38:20.709824Z",
     "iopub.status.busy": "2024-03-30T04:38:20.709074Z",
     "iopub.status.idle": "2024-03-30T04:38:20.718230Z",
     "shell.execute_reply": "2024-03-30T04:38:20.716369Z"
    },
    "papermill": {
     "duration": 0.037698,
     "end_time": "2024-03-30T04:38:20.720737",
     "exception": false,
     "start_time": "2024-03-30T04:38:20.683039",
     "status": "completed"
    },
    "tags": []
   },
   "outputs": [
    {
     "name": "stdout",
     "output_type": "stream",
     "text": [
      "approv_in_adv                          int64\n",
      "Credit_Worthiness                      int64\n",
      "loan_amount                            int64\n",
      "rate_of_interest                     float64\n",
      "Interest_rate_spread                 float64\n",
      "Upfront_charges                      float64\n",
      "term                                 float64\n",
      "Neg_ammortization                      int64\n",
      "interest_only                          int64\n",
      "lump_sum_payment                       int64\n",
      "property_value                       float64\n",
      "income                               float64\n",
      "Credit_Score                           int64\n",
      "LTV                                  float64\n",
      "Status                                 int64\n",
      "dtir1                                float64\n",
      "Gender_Joint                           int64\n",
      "Gender_Male                            int64\n",
      "Gender_Sex Not Available               int64\n",
      "loan_limit_ncf                         int64\n",
      "loan_type_type2                        int64\n",
      "loan_type_type3                        int64\n",
      "loan_purpose_p2                        int64\n",
      "loan_purpose_p3                        int64\n",
      "loan_purpose_p4                        int64\n",
      "business_or_commercial_nob/c           int64\n",
      "occupancy_type_pr                      int64\n",
      "occupancy_type_sr                      int64\n",
      "credit_type_CRIF                       int64\n",
      "credit_type_EXP                        int64\n",
      "submission_of_application_to_inst      int64\n",
      "Region_North-East                      int64\n",
      "Region_central                         int64\n",
      "Region_south                           int64\n",
      "age_35-44                              int64\n",
      "age_45-54                              int64\n",
      "age_55-64                              int64\n",
      "age_65-74                              int64\n",
      "age_<25                                int64\n",
      "age_>74                                int64\n",
      "dtype: object\n",
      "40\n"
     ]
    }
   ],
   "source": [
    "print(df.dtypes)\n",
    "print(len(df.dtypes))"
   ]
  },
  {
   "cell_type": "code",
   "execution_count": 26,
   "id": "a55c7510",
   "metadata": {
    "execution": {
     "iopub.execute_input": "2024-03-30T04:38:20.772362Z",
     "iopub.status.busy": "2024-03-30T04:38:20.771553Z",
     "iopub.status.idle": "2024-03-30T04:38:20.782423Z",
     "shell.execute_reply": "2024-03-30T04:38:20.781357Z"
    },
    "papermill": {
     "duration": 0.039589,
     "end_time": "2024-03-30T04:38:20.784882",
     "exception": false,
     "start_time": "2024-03-30T04:38:20.745293",
     "status": "completed"
    },
    "tags": []
   },
   "outputs": [
    {
     "data": {
      "text/plain": [
       "Credit_Worthiness\n",
       "1    14744\n",
       "0      458\n",
       "Name: count, dtype: int64"
      ]
     },
     "execution_count": 26,
     "metadata": {},
     "output_type": "execute_result"
    }
   ],
   "source": [
    "df['Credit_Worthiness'].value_counts()"
   ]
  },
  {
   "cell_type": "markdown",
   "id": "69f1e23c",
   "metadata": {
    "papermill": {
     "duration": 0.024257,
     "end_time": "2024-03-30T04:38:20.833519",
     "exception": false,
     "start_time": "2024-03-30T04:38:20.809262",
     "status": "completed"
    },
    "tags": []
   },
   "source": [
    "# 4. Models"
   ]
  },
  {
   "cell_type": "markdown",
   "id": "fee50a93",
   "metadata": {
    "papermill": {
     "duration": 0.024133,
     "end_time": "2024-03-30T04:38:20.882120",
     "exception": false,
     "start_time": "2024-03-30T04:38:20.857987",
     "status": "completed"
    },
    "tags": []
   },
   "source": [
    "Since we have a variable called Credit_worthiness, this is a supervised learning problem. We need to classify the observations into two groups: default and non default. We are using Credit_worthiness as a proxy. If a client is credit worthiness, we assume they won't default."
   ]
  },
  {
   "cell_type": "code",
   "execution_count": 27,
   "id": "7debed0d",
   "metadata": {
    "execution": {
     "iopub.execute_input": "2024-03-30T04:38:20.933675Z",
     "iopub.status.busy": "2024-03-30T04:38:20.933205Z",
     "iopub.status.idle": "2024-03-30T04:38:20.941319Z",
     "shell.execute_reply": "2024-03-30T04:38:20.940213Z"
    },
    "papermill": {
     "duration": 0.036973,
     "end_time": "2024-03-30T04:38:20.943736",
     "exception": false,
     "start_time": "2024-03-30T04:38:20.906763",
     "status": "completed"
    },
    "tags": []
   },
   "outputs": [],
   "source": [
    "# Spliting data\n",
    "X = df.drop(['Credit_Worthiness'],axis=1)\n",
    "y = df['Credit_Worthiness']"
   ]
  },
  {
   "cell_type": "code",
   "execution_count": 28,
   "id": "d30d0fe8",
   "metadata": {
    "execution": {
     "iopub.execute_input": "2024-03-30T04:38:20.995927Z",
     "iopub.status.busy": "2024-03-30T04:38:20.995059Z",
     "iopub.status.idle": "2024-03-30T04:38:21.930932Z",
     "shell.execute_reply": "2024-03-30T04:38:21.929919Z"
    },
    "papermill": {
     "duration": 0.965697,
     "end_time": "2024-03-30T04:38:21.933757",
     "exception": false,
     "start_time": "2024-03-30T04:38:20.968060",
     "status": "completed"
    },
    "tags": []
   },
   "outputs": [],
   "source": [
    "# We need to solve the imbalance problem on the y variable. To do so we're using SMOTE\n",
    "from imblearn.over_sampling import SMOTE\n",
    "X_resampled, y_resampled = SMOTE(random_state=12).fit_resample(X,y)"
   ]
  },
  {
   "cell_type": "code",
   "execution_count": 29,
   "id": "a7e7e079",
   "metadata": {
    "execution": {
     "iopub.execute_input": "2024-03-30T04:38:21.986291Z",
     "iopub.status.busy": "2024-03-30T04:38:21.985718Z",
     "iopub.status.idle": "2024-03-30T04:38:21.995215Z",
     "shell.execute_reply": "2024-03-30T04:38:21.994024Z"
    },
    "papermill": {
     "duration": 0.03811,
     "end_time": "2024-03-30T04:38:21.997781",
     "exception": false,
     "start_time": "2024-03-30T04:38:21.959671",
     "status": "completed"
    },
    "tags": []
   },
   "outputs": [
    {
     "data": {
      "text/plain": [
       "Credit_Worthiness\n",
       "1    14744\n",
       "0    14744\n",
       "Name: count, dtype: int64"
      ]
     },
     "execution_count": 29,
     "metadata": {},
     "output_type": "execute_result"
    }
   ],
   "source": [
    "y_resampled.value_counts()"
   ]
  },
  {
   "cell_type": "code",
   "execution_count": 30,
   "id": "e4c410f5",
   "metadata": {
    "execution": {
     "iopub.execute_input": "2024-03-30T04:38:22.049946Z",
     "iopub.status.busy": "2024-03-30T04:38:22.048708Z",
     "iopub.status.idle": "2024-03-30T04:38:22.076205Z",
     "shell.execute_reply": "2024-03-30T04:38:22.074902Z"
    },
    "papermill": {
     "duration": 0.05637,
     "end_time": "2024-03-30T04:38:22.078965",
     "exception": false,
     "start_time": "2024-03-30T04:38:22.022595",
     "status": "completed"
    },
    "tags": []
   },
   "outputs": [],
   "source": [
    "from sklearn.model_selection import train_test_split\n",
    "X_train, X_test, y_train, y_test = train_test_split(X_resampled,y_resampled,test_size=0.3,random_state=12)"
   ]
  },
  {
   "cell_type": "markdown",
   "id": "6d57b6d9",
   "metadata": {
    "papermill": {
     "duration": 0.024674,
     "end_time": "2024-03-30T04:38:22.128611",
     "exception": false,
     "start_time": "2024-03-30T04:38:22.103937",
     "status": "completed"
    },
    "tags": []
   },
   "source": [
    "### 4.1. Logistic Regression"
   ]
  },
  {
   "cell_type": "code",
   "execution_count": 31,
   "id": "a14190db",
   "metadata": {
    "execution": {
     "iopub.execute_input": "2024-03-30T04:38:22.180771Z",
     "iopub.status.busy": "2024-03-30T04:38:22.180332Z",
     "iopub.status.idle": "2024-03-30T04:38:22.185429Z",
     "shell.execute_reply": "2024-03-30T04:38:22.184515Z"
    },
    "papermill": {
     "duration": 0.033799,
     "end_time": "2024-03-30T04:38:22.187699",
     "exception": false,
     "start_time": "2024-03-30T04:38:22.153900",
     "status": "completed"
    },
    "tags": []
   },
   "outputs": [],
   "source": [
    "from sklearn.preprocessing import StandardScaler\n",
    "from sklearn.pipeline import make_pipeline\n",
    "from sklearn.linear_model import LogisticRegression\n",
    "from sklearn.model_selection import train_test_split"
   ]
  },
  {
   "cell_type": "code",
   "execution_count": 32,
   "id": "082b861e",
   "metadata": {
    "execution": {
     "iopub.execute_input": "2024-03-30T04:38:22.240902Z",
     "iopub.status.busy": "2024-03-30T04:38:22.239758Z",
     "iopub.status.idle": "2024-03-30T04:38:22.649817Z",
     "shell.execute_reply": "2024-03-30T04:38:22.648674Z"
    },
    "papermill": {
     "duration": 0.44284,
     "end_time": "2024-03-30T04:38:22.656430",
     "exception": false,
     "start_time": "2024-03-30T04:38:22.213590",
     "status": "completed"
    },
    "tags": []
   },
   "outputs": [
    {
     "name": "stdout",
     "output_type": "stream",
     "text": [
      "Logistic Regression accuracy: 0.559963829546739\n"
     ]
    },
    {
     "name": "stderr",
     "output_type": "stream",
     "text": [
      "/opt/conda/lib/python3.10/site-packages/sklearn/linear_model/_logistic.py:458: ConvergenceWarning: lbfgs failed to converge (status=1):\n",
      "STOP: TOTAL NO. of ITERATIONS REACHED LIMIT.\n",
      "\n",
      "Increase the number of iterations (max_iter) or scale the data as shown in:\n",
      "    https://scikit-learn.org/stable/modules/preprocessing.html\n",
      "Please also refer to the documentation for alternative solver options:\n",
      "    https://scikit-learn.org/stable/modules/linear_model.html#logistic-regression\n",
      "  n_iter_i = _check_optimize_result(\n"
     ]
    }
   ],
   "source": [
    "# Run a LogisticRegression\n",
    "logreg = LogisticRegression(random_state=12)\n",
    "# Fit the model\n",
    "logreg.fit(X_train, y_train)\n",
    "# Predict labels\n",
    "y_pred = logreg.predict(X_test)\n",
    "# Compute accuracy\n",
    "logreg_accuracy = logreg.score(X_test,y_test)\n",
    "print('Logistic Regression accuracy: {}'.format(logreg_accuracy))"
   ]
  },
  {
   "cell_type": "code",
   "execution_count": 33,
   "id": "36cbc321",
   "metadata": {
    "execution": {
     "iopub.execute_input": "2024-03-30T04:38:22.766086Z",
     "iopub.status.busy": "2024-03-30T04:38:22.765651Z",
     "iopub.status.idle": "2024-03-30T04:38:22.857859Z",
     "shell.execute_reply": "2024-03-30T04:38:22.856677Z"
    },
    "papermill": {
     "duration": 0.152621,
     "end_time": "2024-03-30T04:38:22.861759",
     "exception": false,
     "start_time": "2024-03-30T04:38:22.709138",
     "status": "completed"
    },
    "tags": []
   },
   "outputs": [
    {
     "name": "stdout",
     "output_type": "stream",
     "text": [
      "(20641, 39)\n"
     ]
    }
   ],
   "source": [
    "# Feature importances\n",
    "from sklearn.decomposition import PCA\n",
    "pca = PCA()\n",
    "pca.fit(X_train)\n",
    "transformed = pca.transform(X_train)\n",
    "print(transformed.shape)"
   ]
  },
  {
   "cell_type": "markdown",
   "id": "be916e21",
   "metadata": {
    "papermill": {
     "duration": 0.03688,
     "end_time": "2024-03-30T04:38:22.987421",
     "exception": false,
     "start_time": "2024-03-30T04:38:22.950541",
     "status": "completed"
    },
    "tags": []
   },
   "source": [
    "### 4.2. Gradient Boosting"
   ]
  },
  {
   "cell_type": "code",
   "execution_count": 34,
   "id": "d00ab4d4",
   "metadata": {
    "execution": {
     "iopub.execute_input": "2024-03-30T04:38:23.041108Z",
     "iopub.status.busy": "2024-03-30T04:38:23.040674Z",
     "iopub.status.idle": "2024-03-30T04:38:23.045917Z",
     "shell.execute_reply": "2024-03-30T04:38:23.044705Z"
    },
    "papermill": {
     "duration": 0.034988,
     "end_time": "2024-03-30T04:38:23.048452",
     "exception": false,
     "start_time": "2024-03-30T04:38:23.013464",
     "status": "completed"
    },
    "tags": []
   },
   "outputs": [],
   "source": [
    "from sklearn.ensemble import GradientBoostingClassifier"
   ]
  },
  {
   "cell_type": "code",
   "execution_count": 35,
   "id": "8b646e69",
   "metadata": {
    "execution": {
     "iopub.execute_input": "2024-03-30T04:38:23.101883Z",
     "iopub.status.busy": "2024-03-30T04:38:23.101058Z",
     "iopub.status.idle": "2024-03-30T04:38:30.441732Z",
     "shell.execute_reply": "2024-03-30T04:38:30.440762Z"
    },
    "papermill": {
     "duration": 7.370254,
     "end_time": "2024-03-30T04:38:30.444311",
     "exception": false,
     "start_time": "2024-03-30T04:38:23.074057",
     "status": "completed"
    },
    "tags": []
   },
   "outputs": [
    {
     "name": "stdout",
     "output_type": "stream",
     "text": [
      "Gradient Boosting accuracy: 0.9578388154176557\n"
     ]
    }
   ],
   "source": [
    "GBC = GradientBoostingClassifier(random_state=12)\n",
    "# Fit the model\n",
    "GBC.fit(X_train, y_train)\n",
    "# Predict labels\n",
    "y_pred_gbc = GBC.predict(X_test)\n",
    "# Compute accuracy\n",
    "GBC_accuracy = GBC.score(X_test,y_test)\n",
    "print('Gradient Boosting accuracy: {}'.format(GBC_accuracy))"
   ]
  },
  {
   "cell_type": "code",
   "execution_count": 36,
   "id": "c8033995",
   "metadata": {
    "execution": {
     "iopub.execute_input": "2024-03-30T04:38:30.497183Z",
     "iopub.status.busy": "2024-03-30T04:38:30.496002Z",
     "iopub.status.idle": "2024-03-30T04:38:30.504896Z",
     "shell.execute_reply": "2024-03-30T04:38:30.503670Z"
    },
    "papermill": {
     "duration": 0.037781,
     "end_time": "2024-03-30T04:38:30.507289",
     "exception": false,
     "start_time": "2024-03-30T04:38:30.469508",
     "status": "completed"
    },
    "tags": []
   },
   "outputs": [
    {
     "data": {
      "text/plain": [
       "{'ccp_alpha': 0.0,\n",
       " 'criterion': 'friedman_mse',\n",
       " 'init': None,\n",
       " 'learning_rate': 0.1,\n",
       " 'loss': 'log_loss',\n",
       " 'max_depth': 3,\n",
       " 'max_features': None,\n",
       " 'max_leaf_nodes': None,\n",
       " 'min_impurity_decrease': 0.0,\n",
       " 'min_samples_leaf': 1,\n",
       " 'min_samples_split': 2,\n",
       " 'min_weight_fraction_leaf': 0.0,\n",
       " 'n_estimators': 100,\n",
       " 'n_iter_no_change': None,\n",
       " 'random_state': 12,\n",
       " 'subsample': 1.0,\n",
       " 'tol': 0.0001,\n",
       " 'validation_fraction': 0.1,\n",
       " 'verbose': 0,\n",
       " 'warm_start': False}"
      ]
     },
     "execution_count": 36,
     "metadata": {},
     "output_type": "execute_result"
    }
   ],
   "source": [
    "GBC.get_params()"
   ]
  },
  {
   "cell_type": "code",
   "execution_count": 37,
   "id": "6895fa58",
   "metadata": {
    "execution": {
     "iopub.execute_input": "2024-03-30T04:38:30.560438Z",
     "iopub.status.busy": "2024-03-30T04:38:30.559705Z",
     "iopub.status.idle": "2024-03-30T04:48:08.304904Z",
     "shell.execute_reply": "2024-03-30T04:48:08.303380Z"
    },
    "papermill": {
     "duration": 577.809079,
     "end_time": "2024-03-30T04:48:08.341643",
     "exception": false,
     "start_time": "2024-03-30T04:38:30.532564",
     "status": "completed"
    },
    "tags": []
   },
   "outputs": [
    {
     "name": "stdout",
     "output_type": "stream",
     "text": [
      "Best parameters: \n",
      " {'n_estimators': 150, 'min_samples_leaf': 0.1, 'max_features': 20, 'max_depth': 9}\n",
      "Best score: \n",
      " 0.9411367130956872\n"
     ]
    }
   ],
   "source": [
    "# Hyperparameter tuning, just in case\n",
    "from sklearn.model_selection import RandomizedSearchCV\n",
    "param_grid = {'max_depth':np.arange(5,10,1),\n",
    "              'max_features':np.arange(5,35,5),\n",
    "              'min_samples_leaf':np.arange(0.1,1,0.1),\n",
    "              'n_estimators':np.arange(50,200,50)}\n",
    "GBC_cv = RandomizedSearchCV(GBC, param_grid, cv=5, n_iter=100)\n",
    "# Fit the model\n",
    "GBC_cv.fit(X_train, y_train)\n",
    "# Predict\n",
    "print('Best parameters: \\n',GBC_cv.best_params_)\n",
    "print('Best score: \\n',GBC_cv.best_score_)"
   ]
  },
  {
   "cell_type": "code",
   "execution_count": 38,
   "id": "ffa1363b",
   "metadata": {
    "execution": {
     "iopub.execute_input": "2024-03-30T04:48:08.393826Z",
     "iopub.status.busy": "2024-03-30T04:48:08.393401Z",
     "iopub.status.idle": "2024-03-30T04:48:08.451395Z",
     "shell.execute_reply": "2024-03-30T04:48:08.449999Z"
    },
    "papermill": {
     "duration": 0.088,
     "end_time": "2024-03-30T04:48:08.454558",
     "exception": false,
     "start_time": "2024-03-30T04:48:08.366558",
     "status": "completed"
    },
    "tags": []
   },
   "outputs": [
    {
     "name": "stdout",
     "output_type": "stream",
     "text": [
      "Test accuracy of the best model: 0.9404317847858031\n"
     ]
    }
   ],
   "source": [
    "best_model = GBC_cv.best_estimator_\n",
    "test_accuracy = best_model.score(X_test, y_test)\n",
    "print('Test accuracy of the best model: {}'.format(test_accuracy))"
   ]
  },
  {
   "cell_type": "code",
   "execution_count": 39,
   "id": "fb3f3b8e",
   "metadata": {
    "execution": {
     "iopub.execute_input": "2024-03-30T04:48:08.510840Z",
     "iopub.status.busy": "2024-03-30T04:48:08.509450Z",
     "iopub.status.idle": "2024-03-30T04:48:08.527007Z",
     "shell.execute_reply": "2024-03-30T04:48:08.525727Z"
    },
    "papermill": {
     "duration": 0.049504,
     "end_time": "2024-03-30T04:48:08.529518",
     "exception": false,
     "start_time": "2024-03-30T04:48:08.480014",
     "status": "completed"
    },
    "tags": []
   },
   "outputs": [
    {
     "data": {
      "text/html": [
       "<div>\n",
       "<style scoped>\n",
       "    .dataframe tbody tr th:only-of-type {\n",
       "        vertical-align: middle;\n",
       "    }\n",
       "\n",
       "    .dataframe tbody tr th {\n",
       "        vertical-align: top;\n",
       "    }\n",
       "\n",
       "    .dataframe thead th {\n",
       "        text-align: right;\n",
       "    }\n",
       "</style>\n",
       "<table border=\"1\" class=\"dataframe\">\n",
       "  <thead>\n",
       "    <tr style=\"text-align: right;\">\n",
       "      <th></th>\n",
       "      <th>0</th>\n",
       "    </tr>\n",
       "  </thead>\n",
       "  <tbody>\n",
       "    <tr>\n",
       "      <th>rate_of_interest</th>\n",
       "      <td>0.147909</td>\n",
       "    </tr>\n",
       "    <tr>\n",
       "      <th>loan_purpose_p3</th>\n",
       "      <td>0.123254</td>\n",
       "    </tr>\n",
       "    <tr>\n",
       "      <th>term</th>\n",
       "      <td>0.120301</td>\n",
       "    </tr>\n",
       "    <tr>\n",
       "      <th>loan_purpose_p4</th>\n",
       "      <td>0.109946</td>\n",
       "    </tr>\n",
       "    <tr>\n",
       "      <th>approv_in_adv</th>\n",
       "      <td>0.061896</td>\n",
       "    </tr>\n",
       "    <tr>\n",
       "      <th>age_45-54</th>\n",
       "      <td>0.049926</td>\n",
       "    </tr>\n",
       "    <tr>\n",
       "      <th>credit_type_CRIF</th>\n",
       "      <td>0.044816</td>\n",
       "    </tr>\n",
       "    <tr>\n",
       "      <th>age_55-64</th>\n",
       "      <td>0.044773</td>\n",
       "    </tr>\n",
       "    <tr>\n",
       "      <th>Gender_Joint</th>\n",
       "      <td>0.043892</td>\n",
       "    </tr>\n",
       "    <tr>\n",
       "      <th>credit_type_EXP</th>\n",
       "      <td>0.041592</td>\n",
       "    </tr>\n",
       "  </tbody>\n",
       "</table>\n",
       "</div>"
      ],
      "text/plain": [
       "                         0\n",
       "rate_of_interest  0.147909\n",
       "loan_purpose_p3   0.123254\n",
       "term              0.120301\n",
       "loan_purpose_p4   0.109946\n",
       "approv_in_adv     0.061896\n",
       "age_45-54         0.049926\n",
       "credit_type_CRIF  0.044816\n",
       "age_55-64         0.044773\n",
       "Gender_Joint      0.043892\n",
       "credit_type_EXP   0.041592"
      ]
     },
     "execution_count": 39,
     "metadata": {},
     "output_type": "execute_result"
    }
   ],
   "source": [
    "feature_importance = pd.DataFrame(data=GBC.feature_importances_,index=X_train.columns.tolist())\n",
    "feature_importance = feature_importance.sort_values(by=0,ascending=False)\n",
    "feature_importance.head(10)"
   ]
  },
  {
   "cell_type": "markdown",
   "id": "30327e3d",
   "metadata": {
    "papermill": {
     "duration": 0.027495,
     "end_time": "2024-03-30T04:48:08.585269",
     "exception": false,
     "start_time": "2024-03-30T04:48:08.557774",
     "status": "completed"
    },
    "tags": []
   },
   "source": [
    "# Conclusions\n",
    "\n",
    "We've trained two models. LogisticRegression has an accuracy score of 0.55996, which is just slightly better than randomly choosing a label for y. On the other hand, we've trained a GradientBoostingClassifier model with an accuracy score of 0.94404 on the test set, with the following parameters: {'n_estimators': 150, 'min_samples_leaf': 0.1, 'max_features': 30, 'max_depth': 8}.\n",
    "\n",
    "The most important feature to predict if a client is worth of credit is the rate of interest."
   ]
  }
 ],
 "metadata": {
  "kaggle": {
   "accelerator": "none",
   "dataSources": [
    {
     "datasetId": 1897041,
     "sourceId": 3106815,
     "sourceType": "datasetVersion"
    }
   ],
   "dockerImageVersionId": 30664,
   "isGpuEnabled": false,
   "isInternetEnabled": false,
   "language": "python",
   "sourceType": "notebook"
  },
  "kernelspec": {
   "display_name": "Python 3",
   "language": "python",
   "name": "python3"
  },
  "language_info": {
   "codemirror_mode": {
    "name": "ipython",
    "version": 3
   },
   "file_extension": ".py",
   "mimetype": "text/x-python",
   "name": "python",
   "nbconvert_exporter": "python",
   "pygments_lexer": "ipython3",
   "version": "3.10.13"
  },
  "papermill": {
   "default_parameters": {},
   "duration": 618.899328,
   "end_time": "2024-03-30T04:48:09.637870",
   "environment_variables": {},
   "exception": null,
   "input_path": "__notebook__.ipynb",
   "output_path": "__notebook__.ipynb",
   "parameters": {},
   "start_time": "2024-03-30T04:37:50.738542",
   "version": "2.5.0"
  }
 },
 "nbformat": 4,
 "nbformat_minor": 5
}
